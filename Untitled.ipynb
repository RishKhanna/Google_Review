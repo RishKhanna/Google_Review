{
 "cells": [
  {
   "cell_type": "code",
   "execution_count": 1,
   "id": "63e92754",
   "metadata": {},
   "outputs": [],
   "source": [
    "import time, sys, os\n",
    "import pandas as pd\n",
    "from selenium import webdriver\n",
    "from selenium.webdriver.common.by import By"
   ]
  },
  {
   "cell_type": "markdown",
   "id": "80e38fc8",
   "metadata": {},
   "source": [
    "## Inputs"
   ]
  },
  {
   "cell_type": "code",
   "execution_count": 2,
   "id": "2ff2e87b",
   "metadata": {},
   "outputs": [],
   "source": [
    "string_in = \"pasco house plot number 6, old delhi gurgaon road, industrial estate,sector 18, gurugram, haryana, 122015\"\n",
    "# string_in = \"T R SAWHNEY MOTORS PVT. LTD. 9-10 /3 ,LAXMAN HOUSE\""
   ]
  },
  {
   "cell_type": "markdown",
   "id": "371e85e0",
   "metadata": {},
   "source": [
    "## Scarping"
   ]
  },
  {
   "cell_type": "code",
   "execution_count": 3,
   "id": "234b1b2a",
   "metadata": {},
   "outputs": [
    {
     "name": "stderr",
     "output_type": "stream",
     "text": [
      "/home/rishabh/Desktop/EY/Google_Review/scrape.py:51: DeprecationWarning: executable_path has been deprecated, please pass in a Service object\n",
      "  driver = webdriver.Chrome(r\"/home/rishabh/Desktop/EY/chromedriver\")\n"
     ]
    },
    {
     "data": {
      "text/plain": [
       "0"
      ]
     },
     "execution_count": 3,
     "metadata": {},
     "output_type": "execute_result"
    }
   ],
   "source": [
    "os.system(\"python3 scrape.py \\\"\" + string_in + \"\\\"\")"
   ]
  },
  {
   "cell_type": "markdown",
   "id": "c067a67d",
   "metadata": {},
   "source": [
    "# Loading Scraped Data"
   ]
  },
  {
   "cell_type": "code",
   "execution_count": 4,
   "id": "18e3ed95",
   "metadata": {},
   "outputs": [
    {
     "data": {
      "text/html": [
       "<div>\n",
       "<style scoped>\n",
       "    .dataframe tbody tr th:only-of-type {\n",
       "        vertical-align: middle;\n",
       "    }\n",
       "\n",
       "    .dataframe tbody tr th {\n",
       "        vertical-align: top;\n",
       "    }\n",
       "\n",
       "    .dataframe thead th {\n",
       "        text-align: right;\n",
       "    }\n",
       "</style>\n",
       "<table border=\"1\" class=\"dataframe\">\n",
       "  <thead>\n",
       "    <tr style=\"text-align: right;\">\n",
       "      <th></th>\n",
       "      <th>Text</th>\n",
       "      <th>Rating</th>\n",
       "      <th>Category</th>\n",
       "    </tr>\n",
       "  </thead>\n",
       "  <tbody>\n",
       "    <tr>\n",
       "      <th>0</th>\n",
       "      <td>We have purchased my dream Car from this showr...</td>\n",
       "      <td>5.0</td>\n",
       "      <td>Relavent</td>\n",
       "    </tr>\n",
       "    <tr>\n",
       "      <th>1</th>\n",
       "      <td>Today I take Delivery of Swift from Pasco Sect...</td>\n",
       "      <td>5.0</td>\n",
       "      <td>Relavent</td>\n",
       "    </tr>\n",
       "    <tr>\n",
       "      <th>2</th>\n",
       "      <td>Best experience ever I would suggest everyone ...</td>\n",
       "      <td>5.0</td>\n",
       "      <td>Relavent</td>\n",
       "    </tr>\n",
       "    <tr>\n",
       "      <th>3</th>\n",
       "      <td>Excellent and wonderful experience with Pasco....</td>\n",
       "      <td>5.0</td>\n",
       "      <td>Relavent</td>\n",
       "    </tr>\n",
       "    <tr>\n",
       "      <th>4</th>\n",
       "      <td>We have purchased my dream Car from this showr...</td>\n",
       "      <td>5.0</td>\n",
       "      <td>Relavent</td>\n",
       "    </tr>\n",
       "    <tr>\n",
       "      <th>...</th>\n",
       "      <td>...</td>\n",
       "      <td>...</td>\n",
       "      <td>...</td>\n",
       "    </tr>\n",
       "    <tr>\n",
       "      <th>65</th>\n",
       "      <td>Excellent experience with pasco automobile Are...</td>\n",
       "      <td>5.0</td>\n",
       "      <td>Newest</td>\n",
       "    </tr>\n",
       "    <tr>\n",
       "      <th>66</th>\n",
       "      <td>I have taken a Car from this venue. I had a ve...</td>\n",
       "      <td>5.0</td>\n",
       "      <td>Newest</td>\n",
       "    </tr>\n",
       "    <tr>\n",
       "      <th>67</th>\n",
       "      <td>People here have been really welcoming and cou...</td>\n",
       "      <td>5.0</td>\n",
       "      <td>Newest</td>\n",
       "    </tr>\n",
       "    <tr>\n",
       "      <th>68</th>\n",
       "      <td>I have visited in pasco automobiles for enqiry...</td>\n",
       "      <td>5.0</td>\n",
       "      <td>Newest</td>\n",
       "    </tr>\n",
       "    <tr>\n",
       "      <th>69</th>\n",
       "      <td>Best experience ever i would suggest everyone ...</td>\n",
       "      <td>5.0</td>\n",
       "      <td>Newest</td>\n",
       "    </tr>\n",
       "  </tbody>\n",
       "</table>\n",
       "<p>70 rows × 3 columns</p>\n",
       "</div>"
      ],
      "text/plain": [
       "                                                 Text  Rating  Category\n",
       "0   We have purchased my dream Car from this showr...     5.0  Relavent\n",
       "1   Today I take Delivery of Swift from Pasco Sect...     5.0  Relavent\n",
       "2   Best experience ever I would suggest everyone ...     5.0  Relavent\n",
       "3   Excellent and wonderful experience with Pasco....     5.0  Relavent\n",
       "4   We have purchased my dream Car from this showr...     5.0  Relavent\n",
       "..                                                ...     ...       ...\n",
       "65  Excellent experience with pasco automobile Are...     5.0    Newest\n",
       "66  I have taken a Car from this venue. I had a ve...     5.0    Newest\n",
       "67  People here have been really welcoming and cou...     5.0    Newest\n",
       "68  I have visited in pasco automobiles for enqiry...     5.0    Newest\n",
       "69  Best experience ever i would suggest everyone ...     5.0    Newest\n",
       "\n",
       "[70 rows x 3 columns]"
      ]
     },
     "execution_count": 4,
     "metadata": {},
     "output_type": "execute_result"
    }
   ],
   "source": [
    "fin_name = string_in.replace(\"\\\\\", \"\").replace(\"/\", \"\") + \".csv\"\n",
    "fin_name = \"_\".join(fin_name.split())\n",
    "Df = pd.read_csv(\"output/\" + fin_name, index_col=0)\n",
    "Df"
   ]
  },
  {
   "cell_type": "code",
   "execution_count": null,
   "id": "7dedb429",
   "metadata": {},
   "outputs": [],
   "source": []
  }
 ],
 "metadata": {
  "kernelspec": {
   "display_name": "Python 3 (ipykernel)",
   "language": "python",
   "name": "python3"
  },
  "language_info": {
   "codemirror_mode": {
    "name": "ipython",
    "version": 3
   },
   "file_extension": ".py",
   "mimetype": "text/x-python",
   "name": "python",
   "nbconvert_exporter": "python",
   "pygments_lexer": "ipython3",
   "version": "3.10.4"
  }
 },
 "nbformat": 4,
 "nbformat_minor": 5
}
