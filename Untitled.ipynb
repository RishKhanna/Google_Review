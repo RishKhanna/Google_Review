{
 "cells": [
  {
   "cell_type": "code",
   "execution_count": 1,
   "id": "63e92754",
   "metadata": {},
   "outputs": [],
   "source": [
    "import time, sys, os\n",
    "import pandas as pd\n",
    "from selenium import webdriver\n",
    "from selenium.webdriver.common.by import By"
   ]
  },
  {
   "cell_type": "markdown",
   "id": "80e38fc8",
   "metadata": {},
   "source": [
    "## Inputs"
   ]
  },
  {
   "cell_type": "code",
   "execution_count": 2,
   "id": "2ff2e87b",
   "metadata": {},
   "outputs": [],
   "source": [
    "# string_in = \"pasco house plot number 6, old delhi gurgaon road, industrial estate,sector 18, gurugram, haryana, 122015\"\n",
    "string_in = \"T R SAWHNEY MOTORS PVT. LTD. 9-10 /3 ,LAXMAN HOUSE\""
   ]
  },
  {
   "cell_type": "markdown",
   "id": "371e85e0",
   "metadata": {},
   "source": [
    "## Scarping"
   ]
  },
  {
   "cell_type": "code",
   "execution_count": 3,
   "id": "234b1b2a",
   "metadata": {},
   "outputs": [
    {
     "name": "stderr",
     "output_type": "stream",
     "text": [
      "/home/rishabh/Desktop/EY/Google_Review/scrape.py:38: DeprecationWarning: executable_path has been deprecated, please pass in a Service object\n",
      "  driver = webdriver.Chrome(r\"/home/rishabh/Desktop/EY/chromedriver\")\n"
     ]
    },
    {
     "name": "stdout",
     "output_type": "stream",
     "text": [
      "4\n"
     ]
    },
    {
     "data": {
      "text/plain": [
       "0"
      ]
     },
     "execution_count": 3,
     "metadata": {},
     "output_type": "execute_result"
    }
   ],
   "source": [
    "os.system(\"python3 scrape.py \\\"\" + string_in + \"\\\"\")"
   ]
  },
  {
   "cell_type": "markdown",
   "id": "c067a67d",
   "metadata": {},
   "source": [
    "# Loading Scraped Data"
   ]
  },
  {
   "cell_type": "code",
   "execution_count": 4,
   "id": "18e3ed95",
   "metadata": {},
   "outputs": [
    {
     "data": {
      "text/html": [
       "<div>\n",
       "<style scoped>\n",
       "    .dataframe tbody tr th:only-of-type {\n",
       "        vertical-align: middle;\n",
       "    }\n",
       "\n",
       "    .dataframe tbody tr th {\n",
       "        vertical-align: top;\n",
       "    }\n",
       "\n",
       "    .dataframe thead th {\n",
       "        text-align: right;\n",
       "    }\n",
       "</style>\n",
       "<table border=\"1\" class=\"dataframe\">\n",
       "  <thead>\n",
       "    <tr style=\"text-align: right;\">\n",
       "      <th></th>\n",
       "      <th>Text</th>\n",
       "      <th>Rating</th>\n",
       "      <th>Category</th>\n",
       "    </tr>\n",
       "  </thead>\n",
       "  <tbody>\n",
       "    <tr>\n",
       "      <th>0</th>\n",
       "      <td>#TR Sawhney#Best Deal in Maruti I'm very Happy...</td>\n",
       "      <td>5.0</td>\n",
       "      <td>Relavent</td>\n",
       "    </tr>\n",
       "    <tr>\n",
       "      <th>1</th>\n",
       "      <td>Smooth and fast ⏩⏩ transaction and very helpfu...</td>\n",
       "      <td>5.0</td>\n",
       "      <td>Relavent</td>\n",
       "    </tr>\n",
       "    <tr>\n",
       "      <th>2</th>\n",
       "      <td>#Tr sawhney motors# best deal in Maruti I have...</td>\n",
       "      <td>5.0</td>\n",
       "      <td>Relavent</td>\n",
       "    </tr>\n",
       "    <tr>\n",
       "      <th>3</th>\n",
       "      <td>I have purchase wagon R petrol I'm very Happy ...</td>\n",
       "      <td>5.0</td>\n",
       "      <td>Relavent</td>\n",
       "    </tr>\n",
       "    <tr>\n",
       "      <th>4</th>\n",
       "      <td>#Tr Sawhney #I have purchase Ertiga Petrol I'm...</td>\n",
       "      <td>5.0</td>\n",
       "      <td>Relavent</td>\n",
       "    </tr>\n",
       "    <tr>\n",
       "      <th>5</th>\n",
       "      <td>your asst. manager mr punneet ia really a good...</td>\n",
       "      <td>5.0</td>\n",
       "      <td>Relavent</td>\n",
       "    </tr>\n",
       "    <tr>\n",
       "      <th>6</th>\n",
       "      <td>i am writing to thank you 🤠❤️for the quality o...</td>\n",
       "      <td>5.0</td>\n",
       "      <td>Relavent</td>\n",
       "    </tr>\n",
       "    <tr>\n",
       "      <th>7</th>\n",
       "      <td>I have purchase wagon r petrol Mr Puneet very ...</td>\n",
       "      <td>5.0</td>\n",
       "      <td>Relavent</td>\n",
       "    </tr>\n",
       "    <tr>\n",
       "      <th>8</th>\n",
       "      <td>Pathetic experience from this dealer.. Bought ...</td>\n",
       "      <td>1.0</td>\n",
       "      <td>Relavent</td>\n",
       "    </tr>\n",
       "    <tr>\n",
       "      <th>9</th>\n",
       "      <td>Nexa Team\\n\\nYou may be doing well in sales bu...</td>\n",
       "      <td>1.0</td>\n",
       "      <td>Relavent</td>\n",
       "    </tr>\n",
       "    <tr>\n",
       "      <th>10</th>\n",
       "      <td>Wonderful experience</td>\n",
       "      <td>5.0</td>\n",
       "      <td>Newest</td>\n",
       "    </tr>\n",
       "    <tr>\n",
       "      <th>11</th>\n",
       "      <td>Happy to buy new car from tr sawhney motors da...</td>\n",
       "      <td>5.0</td>\n",
       "      <td>Newest</td>\n",
       "    </tr>\n",
       "    <tr>\n",
       "      <th>12</th>\n",
       "      <td>Excellent experience</td>\n",
       "      <td>5.0</td>\n",
       "      <td>Newest</td>\n",
       "    </tr>\n",
       "    <tr>\n",
       "      <th>13</th>\n",
       "      <td>Excellent experience</td>\n",
       "      <td>5.0</td>\n",
       "      <td>Newest</td>\n",
       "    </tr>\n",
       "    <tr>\n",
       "      <th>14</th>\n",
       "      <td>Sanjay bro iis very nice person this is very e...</td>\n",
       "      <td>5.0</td>\n",
       "      <td>Newest</td>\n",
       "    </tr>\n",
       "    <tr>\n",
       "      <th>15</th>\n",
       "      <td>Excellent experience</td>\n",
       "      <td>5.0</td>\n",
       "      <td>Newest</td>\n",
       "    </tr>\n",
       "    <tr>\n",
       "      <th>16</th>\n",
       "      <td>Wonderful experience</td>\n",
       "      <td>5.0</td>\n",
       "      <td>Newest</td>\n",
       "    </tr>\n",
       "    <tr>\n",
       "      <th>17</th>\n",
       "      <td>Very nice experience with all team</td>\n",
       "      <td>5.0</td>\n",
       "      <td>Newest</td>\n",
       "    </tr>\n",
       "    <tr>\n",
       "      <th>18</th>\n",
       "      <td>Wonderful experience.</td>\n",
       "      <td>5.0</td>\n",
       "      <td>Newest</td>\n",
       "    </tr>\n",
       "    <tr>\n",
       "      <th>19</th>\n",
       "      <td>Excellent experience with trsawhney dariya ganj</td>\n",
       "      <td>5.0</td>\n",
       "      <td>Newest</td>\n",
       "    </tr>\n",
       "  </tbody>\n",
       "</table>\n",
       "</div>"
      ],
      "text/plain": [
       "                                                 Text  Rating  Category\n",
       "0   #TR Sawhney#Best Deal in Maruti I'm very Happy...     5.0  Relavent\n",
       "1   Smooth and fast ⏩⏩ transaction and very helpfu...     5.0  Relavent\n",
       "2   #Tr sawhney motors# best deal in Maruti I have...     5.0  Relavent\n",
       "3   I have purchase wagon R petrol I'm very Happy ...     5.0  Relavent\n",
       "4   #Tr Sawhney #I have purchase Ertiga Petrol I'm...     5.0  Relavent\n",
       "5   your asst. manager mr punneet ia really a good...     5.0  Relavent\n",
       "6   i am writing to thank you 🤠❤️for the quality o...     5.0  Relavent\n",
       "7   I have purchase wagon r petrol Mr Puneet very ...     5.0  Relavent\n",
       "8   Pathetic experience from this dealer.. Bought ...     1.0  Relavent\n",
       "9   Nexa Team\\n\\nYou may be doing well in sales bu...     1.0  Relavent\n",
       "10                               Wonderful experience     5.0    Newest\n",
       "11  Happy to buy new car from tr sawhney motors da...     5.0    Newest\n",
       "12                               Excellent experience     5.0    Newest\n",
       "13                               Excellent experience     5.0    Newest\n",
       "14  Sanjay bro iis very nice person this is very e...     5.0    Newest\n",
       "15                               Excellent experience     5.0    Newest\n",
       "16                               Wonderful experience     5.0    Newest\n",
       "17                 Very nice experience with all team     5.0    Newest\n",
       "18                              Wonderful experience.     5.0    Newest\n",
       "19    Excellent experience with trsawhney dariya ganj     5.0    Newest"
      ]
     },
     "execution_count": 4,
     "metadata": {},
     "output_type": "execute_result"
    }
   ],
   "source": [
    "fin_name = string_in.replace(\"\\\\\", \"\").replace(\"/\", \"\") + \".csv\"\n",
    "fin_name = \"_\".join(fin_name.split())\n",
    "Df = pd.read_csv(\"output/\" + fin_name, index_col=0)\n",
    "Df"
   ]
  },
  {
   "cell_type": "code",
   "execution_count": null,
   "id": "7dedb429",
   "metadata": {},
   "outputs": [],
   "source": []
  }
 ],
 "metadata": {
  "kernelspec": {
   "display_name": "Python 3 (ipykernel)",
   "language": "python",
   "name": "python3"
  },
  "language_info": {
   "codemirror_mode": {
    "name": "ipython",
    "version": 3
   },
   "file_extension": ".py",
   "mimetype": "text/x-python",
   "name": "python",
   "nbconvert_exporter": "python",
   "pygments_lexer": "ipython3",
   "version": "3.10.4"
  }
 },
 "nbformat": 4,
 "nbformat_minor": 5
}
