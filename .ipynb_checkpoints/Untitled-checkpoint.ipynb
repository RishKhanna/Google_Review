{
 "cells": [
  {
   "cell_type": "code",
   "execution_count": 1,
   "id": "63e92754",
   "metadata": {},
   "outputs": [],
   "source": [
    "import time, sys, os\n",
    "import pandas as pd\n",
    "from selenium import webdriver\n",
    "from selenium.webdriver.common.by import By"
   ]
  },
  {
   "cell_type": "markdown",
   "id": "80e38fc8",
   "metadata": {},
   "source": [
    "## Inputs"
   ]
  },
  {
   "cell_type": "code",
   "execution_count": 2,
   "id": "2ff2e87b",
   "metadata": {},
   "outputs": [],
   "source": [
    "# string_in = \"pasco house plot number 6, old delhi gurgaon road, industrial estate,sector 18, gurugram, haryana, 122015\"\n",
    "string_in = \"T R SAWHNEY MOTORS PVT. LTD. 9-10 /3 ,LAXMAN HOUSE\""
   ]
  },
  {
   "cell_type": "markdown",
   "id": "371e85e0",
   "metadata": {},
   "source": [
    "## Scarping"
   ]
  },
  {
   "cell_type": "code",
   "execution_count": 3,
   "id": "234b1b2a",
   "metadata": {},
   "outputs": [
    {
     "name": "stderr",
     "output_type": "stream",
     "text": [
      "/home/rishabh/Desktop/EY/Google_Review/scrape.py:38: DeprecationWarning: executable_path has been deprecated, please pass in a Service object\n",
      "  driver = webdriver.Chrome(r\"/home/rishabh/Desktop/EY/chromedriver\")\n"
     ]
    },
    {
     "name": "stdout",
     "output_type": "stream",
     "text": [
      "4\n"
     ]
    },
    {
     "data": {
      "text/plain": [
       "0"
      ]
     },
     "execution_count": 3,
     "metadata": {},
     "output_type": "execute_result"
    }
   ],
   "source": [
    "os.system(\"python3 scrape.py \\\"\" + string_in + \"\\\"\")"
   ]
  },
  {
   "cell_type": "markdown",
   "id": "c067a67d",
   "metadata": {},
   "source": [
    "# Loading Scraped Data"
   ]
  },
  {
   "cell_type": "code",
   "execution_count": 4,
   "id": "18e3ed95",
   "metadata": {},
   "outputs": [
    {
     "data": {
      "text/html": [
       "<div>\n",
       "<style scoped>\n",
       "    .dataframe tbody tr th:only-of-type {\n",
       "        vertical-align: middle;\n",
       "    }\n",
       "\n",
       "    .dataframe tbody tr th {\n",
       "        vertical-align: top;\n",
       "    }\n",
       "\n",
       "    .dataframe thead th {\n",
       "        text-align: right;\n",
       "    }\n",
       "</style>\n",
       "<table border=\"1\" class=\"dataframe\">\n",
       "  <thead>\n",
       "    <tr style=\"text-align: right;\">\n",
       "      <th></th>\n",
       "      <th>Text</th>\n",
       "      <th>Rating</th>\n",
       "      <th>Category</th>\n",
       "    </tr>\n",
       "  </thead>\n",
       "  <tbody>\n",
       "    <tr>\n",
       "      <th>0</th>\n",
       "      <td>We have purchased my dream Car from this showr...</td>\n",
       "      <td>5.0</td>\n",
       "      <td>Relavent</td>\n",
       "    </tr>\n",
       "    <tr>\n",
       "      <th>1</th>\n",
       "      <td>Today I take Delivery of Swift from Pasco Sect...</td>\n",
       "      <td>5.0</td>\n",
       "      <td>Relavent</td>\n",
       "    </tr>\n",
       "    <tr>\n",
       "      <th>2</th>\n",
       "      <td>Best experience ever I would suggest everyone ...</td>\n",
       "      <td>5.0</td>\n",
       "      <td>Relavent</td>\n",
       "    </tr>\n",
       "    <tr>\n",
       "      <th>3</th>\n",
       "      <td>Excellent and wonderful experience with Pasco....</td>\n",
       "      <td>5.0</td>\n",
       "      <td>Relavent</td>\n",
       "    </tr>\n",
       "    <tr>\n",
       "      <th>4</th>\n",
       "      <td>We have purchased my dream Car from this showr...</td>\n",
       "      <td>5.0</td>\n",
       "      <td>Relavent</td>\n",
       "    </tr>\n",
       "    <tr>\n",
       "      <th>5</th>\n",
       "      <td>Purchased Wagon R CNG from Pasco Automobiles. ...</td>\n",
       "      <td>5.0</td>\n",
       "      <td>Relavent</td>\n",
       "    </tr>\n",
       "    <tr>\n",
       "      <th>6</th>\n",
       "      <td>Best ever experienced with Pasco automobile.  ...</td>\n",
       "      <td>5.0</td>\n",
       "      <td>Relavent</td>\n",
       "    </tr>\n",
       "    <tr>\n",
       "      <th>7</th>\n",
       "      <td>5-star experience at Pasco Motors Sec-18. The ...</td>\n",
       "      <td>5.0</td>\n",
       "      <td>Relavent</td>\n",
       "    </tr>\n",
       "    <tr>\n",
       "      <th>8</th>\n",
       "      <td>Good ambiance. Team here is very expert n prof...</td>\n",
       "      <td>5.0</td>\n",
       "      <td>Relavent</td>\n",
       "    </tr>\n",
       "    <tr>\n",
       "      <th>9</th>\n",
       "      <td>We have purchased my dream car from this showr...</td>\n",
       "      <td>5.0</td>\n",
       "      <td>Relavent</td>\n",
       "    </tr>\n",
       "    <tr>\n",
       "      <th>10</th>\n",
       "      <td>NaN</td>\n",
       "      <td>1.0</td>\n",
       "      <td>Newest</td>\n",
       "    </tr>\n",
       "    <tr>\n",
       "      <th>11</th>\n",
       "      <td>1.Washing zero\\n2.Job done on time zero\\n3.Noi...</td>\n",
       "      <td>1.0</td>\n",
       "      <td>Newest</td>\n",
       "    </tr>\n",
       "    <tr>\n",
       "      <th>12</th>\n",
       "      <td>Excellent</td>\n",
       "      <td>5.0</td>\n",
       "      <td>Newest</td>\n",
       "    </tr>\n",
       "    <tr>\n",
       "      <th>13</th>\n",
       "      <td>Good hospitality</td>\n",
       "      <td>5.0</td>\n",
       "      <td>Newest</td>\n",
       "    </tr>\n",
       "    <tr>\n",
       "      <th>14</th>\n",
       "      <td>We just bought our third car through this show...</td>\n",
       "      <td>5.0</td>\n",
       "      <td>Newest</td>\n",
       "    </tr>\n",
       "    <tr>\n",
       "      <th>15</th>\n",
       "      <td>Nice experience should go there once nice staf...</td>\n",
       "      <td>5.0</td>\n",
       "      <td>Newest</td>\n",
       "    </tr>\n",
       "    <tr>\n",
       "      <th>16</th>\n",
       "      <td>I love PASCO AUTOMOBILE SEC 18 GURGAON Today w...</td>\n",
       "      <td>5.0</td>\n",
       "      <td>Newest</td>\n",
       "    </tr>\n",
       "    <tr>\n",
       "      <th>17</th>\n",
       "      <td>Super experience of buying a car !!!</td>\n",
       "      <td>5.0</td>\n",
       "      <td>Newest</td>\n",
       "    </tr>\n",
       "    <tr>\n",
       "      <th>18</th>\n",
       "      <td>Staff is really helpful in Pasco Automobiles o...</td>\n",
       "      <td>5.0</td>\n",
       "      <td>Newest</td>\n",
       "    </tr>\n",
       "    <tr>\n",
       "      <th>19</th>\n",
       "      <td>I would definitely recommend Varun choudhary. ...</td>\n",
       "      <td>5.0</td>\n",
       "      <td>Newest</td>\n",
       "    </tr>\n",
       "  </tbody>\n",
       "</table>\n",
       "</div>"
      ],
      "text/plain": [
       "                                                 Text  Rating  Category\n",
       "0   We have purchased my dream Car from this showr...     5.0  Relavent\n",
       "1   Today I take Delivery of Swift from Pasco Sect...     5.0  Relavent\n",
       "2   Best experience ever I would suggest everyone ...     5.0  Relavent\n",
       "3   Excellent and wonderful experience with Pasco....     5.0  Relavent\n",
       "4   We have purchased my dream Car from this showr...     5.0  Relavent\n",
       "5   Purchased Wagon R CNG from Pasco Automobiles. ...     5.0  Relavent\n",
       "6   Best ever experienced with Pasco automobile.  ...     5.0  Relavent\n",
       "7   5-star experience at Pasco Motors Sec-18. The ...     5.0  Relavent\n",
       "8   Good ambiance. Team here is very expert n prof...     5.0  Relavent\n",
       "9   We have purchased my dream car from this showr...     5.0  Relavent\n",
       "10                                                NaN     1.0    Newest\n",
       "11  1.Washing zero\\n2.Job done on time zero\\n3.Noi...     1.0    Newest\n",
       "12                                          Excellent     5.0    Newest\n",
       "13                                   Good hospitality     5.0    Newest\n",
       "14  We just bought our third car through this show...     5.0    Newest\n",
       "15  Nice experience should go there once nice staf...     5.0    Newest\n",
       "16  I love PASCO AUTOMOBILE SEC 18 GURGAON Today w...     5.0    Newest\n",
       "17               Super experience of buying a car !!!     5.0    Newest\n",
       "18  Staff is really helpful in Pasco Automobiles o...     5.0    Newest\n",
       "19  I would definitely recommend Varun choudhary. ...     5.0    Newest"
      ]
     },
     "execution_count": 4,
     "metadata": {},
     "output_type": "execute_result"
    }
   ],
   "source": [
    "fin_name = string_in.replace(\"\\\\\", \"\").replace(\"/\", \"\") + \".csv\"\n",
    "fin_name = \"_\".join(fin_name.split())\n",
    "Df = pd.read_csv(\"output/\" + fin_name, index_col=0)\n",
    "Df"
   ]
  },
  {
   "cell_type": "code",
   "execution_count": null,
   "id": "7dedb429",
   "metadata": {},
   "outputs": [],
   "source": []
  }
 ],
 "metadata": {
  "kernelspec": {
   "display_name": "Python 3 (ipykernel)",
   "language": "python",
   "name": "python3"
  },
  "language_info": {
   "codemirror_mode": {
    "name": "ipython",
    "version": 3
   },
   "file_extension": ".py",
   "mimetype": "text/x-python",
   "name": "python",
   "nbconvert_exporter": "python",
   "pygments_lexer": "ipython3",
   "version": "3.10.4"
  }
 },
 "nbformat": 4,
 "nbformat_minor": 5
}
